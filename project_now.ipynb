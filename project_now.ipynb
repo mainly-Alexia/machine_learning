{
 "cells": [
  {
   "cell_type": "code",
   "execution_count": 1,
   "id": "1ea92481",
   "metadata": {},
   "outputs": [],
   "source": [
    "import tensorflow as tf\n",
    "import numpy as np\n",
    "import matplotlib.pyplot as plt\n",
    "from tensorflow.keras.models import Sequential\n",
    "# from tensorflow.keras.layers import Conv2D,Dense,Dropout,Input,\n",
    "from tensorflow.keras.layers import Dense,Dropout,MaxPooling2D,Conv2D,GlobalAveragePooling2D,RandomFlip,RandomRotation,RandomBrightness,RandomContrast,RandomZoom,Input,Rescaling\n",
    "from tensorflow.keras.callbacks import EarlyStopping,ModelCheckpoint,ReduceLROnPlateau,TensorBoard\n",
    "from PIL import Image\n",
    "import os"
   ]
  },
  {
   "cell_type": "code",
   "execution_count": 2,
   "id": "470dac5c",
   "metadata": {},
   "outputs": [
    {
     "data": {
      "text/plain": [
       "['project_now.ipynb', 'train', 'validation']"
      ]
     },
     "execution_count": 2,
     "metadata": {},
     "output_type": "execute_result"
    }
   ],
   "source": [
    "classnames=[]\n",
    "os.listdir()"
   ]
  },
  {
   "cell_type": "code",
   "execution_count": null,
   "id": "4e2da38b",
   "metadata": {},
   "outputs": [
    {
     "ename": "NameError",
     "evalue": "name 'classnames' is not defined",
     "output_type": "error",
     "traceback": [
      "\u001b[31m---------------------------------------------------------------------------\u001b[39m",
      "\u001b[31mNameError\u001b[39m                                 Traceback (most recent call last)",
      "\u001b[36mCell\u001b[39m\u001b[36m \u001b[39m\u001b[32mIn[2]\u001b[39m\u001b[32m, line 2\u001b[39m\n\u001b[32m      1\u001b[39m img_skip=\u001b[32m0\u001b[39m\n\u001b[32m----> \u001b[39m\u001b[32m2\u001b[39m \u001b[38;5;28;01mfor\u001b[39;00m folder_name \u001b[38;5;129;01min\u001b[39;00m \u001b[43mclassnames\u001b[49m:\n\u001b[32m      3\u001b[39m     folder_path=os.path.join(\u001b[33m\"\u001b[39m\u001b[33mImages\u001b[39m\u001b[33m\"\u001b[39m,folder_name)\n\u001b[32m      4\u001b[39m     \u001b[38;5;28mprint\u001b[39m(folder_path)\n",
      "\u001b[31mNameError\u001b[39m: name 'classnames' is not defined"
     ]
    }
   ],
   "source": [
    "img_skip=0\n",
    "for folder_name in classnames:\n",
    "    folder_path=os.path.join(\"train\",folder_name)\n",
    "    print(folder_path)\n",
    "    for f_name in os.listdir(folder_path):\n",
    "        f_path =os.path.join(folder_path,f_name)\n",
    "        try:\n",
    "            img_bytes=tf.io.read_file(f_path)\n",
    "            tf.io.decode_image(img_bytes)\n",
    "           \n",
    "        except Exception as e:\n",
    "            print(f\"Bad file found and deleted on {f_path}\")\n",
    "            img_skip +=1\n",
    "            os.remove(f_path)\n",
    "\n",
    "print(f\"picture deleted due to corrupt {img_skip}\")"
   ]
  },
  {
   "cell_type": "code",
   "execution_count": null,
   "id": "6e4f6116",
   "metadata": {},
   "outputs": [],
   "source": [
    "data_aug=Sequential([\n",
    "     RandomFlip('horizontal'),\n",
    "    RandomRotation(0.3),\n",
    "    RandomZoom(height_factor=0.3),\n",
    "    RandomBrightness(0.2),\n",
    "    RandomContrast(0.2)\n",
    "])"
   ]
  },
  {
   "cell_type": "code",
   "execution_count": null,
   "metadata": {},
   "outputs": [],
   "source": [
    "auto_tune=tf.data.AUTOTUNE\n",
    "training_ds =train_data.cache().prefetch(buffer_size=auto_tune)\n",
    "validation_ds =val_data.cache().prefetch(buffer_size=auto_tune)"
   ]
  },
  {
   "cell_type": "code",
   "execution_count": null,
   "metadata": {},
   "outputs": [],
   "source": [
    "train_data =tf.keras.utils.image_dataset_from_directory(\n",
    "    directory,\n",
    "    subset='training',\n",
    "    seed=2345,\n",
    "    validation_split=0.2,\n",
    "    image_size=(220,220),\n",
    "    batch_size=20\n",
    ")\n",
    "val_data =tf.keras.utils.image_dataset_from_directory(\n",
    "    directory,\n",
    "    subset='validation',\n",
    "    seed=2345,\n",
    "    validation_split=0.2,\n",
    "    image_size=(220,220),\n",
    "    batch_size=20\n",
    ")"
   ]
  },
  {
   "cell_type": "code",
   "execution_count": null,
   "metadata": {},
   "outputs": [],
   "source": [
    "trained_model =tf.keras.applications.MobileNetV2(\n",
    "  input_shape=(220,220,3),\n",
    "  include_top=False,\n",
    "  weights='imagenet'\n",
    "  )"
   ]
  },
  {
   "cell_type": "code",
   "execution_count": null,
   "id": "fb555852",
   "metadata": {},
   "outputs": [],
   "source": [
    "trained_model.trainable=False"
   ]
  },
  {
   "cell_type": "code",
   "execution_count": null,
   "id": "2df984e6",
   "metadata": {},
   "outputs": [],
   "source": [
    "model=Sequential([\n",
    "    Input(shape=(220,220,3)),\n",
    "    data_aug,\n",
    "    Rescaling(1./127.5,offset=1),\n",
    "    base_model,\n",
    "    tf.keras.layers.GlobalAveragePooling2D(),\n",
    "    Dense(124,activation='relu'),\n",
    "    Dropout(0.3),\n",
    "    Dense(4,activation='softmax')\n",
    "])\n",
    "model.compile(optimizer='adam',loss='sparse_categorical_crossentropy',metrics=['accuracy'])\n",
    "model.summary()"
   ]
  },
  {
   "cell_type": "code",
   "execution_count": null,
   "id": "fe1afa1d",
   "metadata": {},
   "outputs": [],
   "source": [
    "model.fit(\n",
    "    train_data,\n",
    "    validation_data=val_data,\n",
    "    epochs=20,\n",
    "    callbacks=[EarlyStopping(monitor='val_accuracy',patience=3,mode='max'),\n",
    "               ModelCheckpoint('tomato_pest_best_model.keras',save_best_only=True,monitor='val_loss',mode='min'),\n",
    "               ReduceLROnPlateau( monitor='val_loss',factor=0.2,patience=5,min_lr=1e-7,mode='min'),\n",
    "               TensorBoard(log_dir='logs', histogram_freq=1,write_graph=True,write_images=False,update_freq='epoch',profile_batch=2,embeddings_freq=0,embeddings_metadata=None)]\n",
    ")"
   ]
  },
  {
   "cell_type": "code",
   "execution_count": null,
   "id": "3d6f5b1f",
   "metadata": {},
   "outputs": [],
   "source": []
  }
 ],
 "metadata": {
  "kernelspec": {
   "display_name": "Python 3",
   "language": "python",
   "name": "python3"
  },
  "language_info": {
   "codemirror_mode": {
    "name": "ipython",
    "version": 3
   },
   "file_extension": ".py",
   "mimetype": "text/x-python",
   "name": "python",
   "nbconvert_exporter": "python",
   "pygments_lexer": "ipython3",
   "version": "3.12.0"
  }
 },
 "nbformat": 4,
 "nbformat_minor": 5
}
