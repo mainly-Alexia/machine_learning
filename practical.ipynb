{
 "cells": [
  {
   "cell_type": "code",
   "execution_count": 1,
   "id": "e013d421-1e26-464f-ac28-12aadf5a9e13",
   "metadata": {},
   "outputs": [],
   "source": [
    "import pandas as pd\n",
    "import matplotlib.pyplot as plt\n",
    "import random\n",
    "from sklearn.linear_model import LinearRegression\n",
    "import numpy as np"
   ]
  },
  {
   "cell_type": "code",
   "execution_count": 2,
   "id": "b8a5c7e1-3f67-453e-a386-346ca134828c",
   "metadata": {},
   "outputs": [
    {
     "data": {
      "text/html": [
       "<div>\n",
       "<style scoped>\n",
       "    .dataframe tbody tr th:only-of-type {\n",
       "        vertical-align: middle;\n",
       "    }\n",
       "\n",
       "    .dataframe tbody tr th {\n",
       "        vertical-align: top;\n",
       "    }\n",
       "\n",
       "    .dataframe thead th {\n",
       "        text-align: right;\n",
       "    }\n",
       "</style>\n",
       "<table border=\"1\" class=\"dataframe\">\n",
       "  <thead>\n",
       "    <tr style=\"text-align: right;\">\n",
       "      <th></th>\n",
       "      <th>car weight</th>\n",
       "      <th>MPG</th>\n",
       "    </tr>\n",
       "  </thead>\n",
       "  <tbody>\n",
       "    <tr>\n",
       "      <th>0</th>\n",
       "      <td>1500</td>\n",
       "      <td>30</td>\n",
       "    </tr>\n",
       "    <tr>\n",
       "      <th>1</th>\n",
       "      <td>1800</td>\n",
       "      <td>28</td>\n",
       "    </tr>\n",
       "    <tr>\n",
       "      <th>2</th>\n",
       "      <td>2000</td>\n",
       "      <td>25</td>\n",
       "    </tr>\n",
       "    <tr>\n",
       "      <th>3</th>\n",
       "      <td>2500</td>\n",
       "      <td>20</td>\n",
       "    </tr>\n",
       "    <tr>\n",
       "      <th>4</th>\n",
       "      <td>3000</td>\n",
       "      <td>18</td>\n",
       "    </tr>\n",
       "  </tbody>\n",
       "</table>\n",
       "</div>"
      ],
      "text/plain": [
       "   car weight  MPG\n",
       "0        1500   30\n",
       "1        1800   28\n",
       "2        2000   25\n",
       "3        2500   20\n",
       "4        3000   18"
      ]
     },
     "execution_count": 2,
     "metadata": {},
     "output_type": "execute_result"
    }
   ],
   "source": [
    "data_set={'car weight':[1500,1800,2000,2500,3000],\n",
    "          'MPG':[30,28,25,20,18]}\n",
    "info=pd.DataFrame(data_set)\n",
    "info"
   ]
  },
  {
   "cell_type": "code",
   "execution_count": 3,
   "id": "47c5e318-237c-4f43-8eba-3c46403ca690",
   "metadata": {},
   "outputs": [
    {
     "name": "stdout",
     "output_type": "stream",
     "text": [
      "the weight is: 0.3745401188473625 and the bias is : 0.9507143064099162\n"
     ]
    }
   ],
   "source": [
    "np.random.seed(42)\n",
    "weight=np.random.rand()\n",
    "bias=np.random.rand()\n",
    "print(f'the weight is: {weight} and the bias is : {bias}')"
   ]
  },
  {
   "cell_type": "code",
   "execution_count": 4,
   "id": "1b63adc8-9c7b-4a69-bc2f-c44e38b236a0",
   "metadata": {},
   "outputs": [
    {
     "name": "stdout",
     "output_type": "stream",
     "text": [
      "the prediction of 1500 is : 562.7608925774537\n"
     ]
    }
   ],
   "source": [
    "prediction=bias +(weight*info['car weight'][0])\n",
    "print(f'the prediction of 1500 is : {prediction}')"
   ]
  },
  {
   "cell_type": "code",
   "execution_count": 5,
   "id": "1a11cfb1-0d58-4027-a639-ad7191f96c55",
   "metadata": {},
   "outputs": [],
   "source": [
    "def compute_loss(weight,bias,features,actual_value):\n",
    "    prediction=bias+ (weight*features)\n",
    "    loss=prediction - actual_value\n",
    "    return np.mean(loss**2)\n",
    "X= info[['car weight']].values\n",
    "y= info['MPG'].values"
   ]
  },
  {
   "cell_type": "code",
   "execution_count": 6,
   "id": "38184775-d10f-4e23-9ef0-06cec4464bdc",
   "metadata": {},
   "outputs": [
    {
     "data": {
      "text/plain": [
       "np.float64(657050.7630039341)"
      ]
     },
     "execution_count": 6,
     "metadata": {},
     "output_type": "execute_result"
    }
   ],
   "source": [
    "compute_loss(weight,bias,X,y)"
   ]
  },
  {
   "cell_type": "code",
   "execution_count": 7,
   "id": "e9cdd1ba-9b20-4223-90e0-84345be9f651",
   "metadata": {},
   "outputs": [],
   "source": [
    "def gradient_decent(weight,bias,features,actual_value,learning_rate):\n",
    "    m=len(features)\n",
    "    prediction=bias +(weight*features) \n",
    "    loss=prediction - actual_value\n",
    "\n",
    "    weight_gradient=(2/m)*loss@features\n",
    "    bias_gradient  =(2/m)*np.sum(loss)\n",
    "\n",
    "    weight-=weight_gradient*learning_rate\n",
    "    bias -=bias_gradient*learning_rate\n",
    "\n",
    "    return weight,bias\n",
    "    "
   ]
  },
  {
   "cell_type": "code",
   "execution_count": 8,
   "id": "4ecb31ef-ff0d-491f-acef-dfc929dd0b62",
   "metadata": {},
   "outputs": [
    {
     "name": "stdout",
     "output_type": "stream",
     "text": [
      "updated weight  is : [[-232.76216547]\n",
      " [-281.30256488]\n",
      " [-313.66283115]\n",
      " [-394.56349682]\n",
      " [-475.46416249]] and updated bias is : 0.16495693539320322\n"
     ]
    }
   ],
   "source": [
    "learning_rate=0.0001\n",
    "weight,bias=gradient_decent(weight,bias,X,y,learning_rate)\n",
    "print(f'updated weight  is : {weight} and updated bias is : {bias}')"
   ]
  },
  {
   "cell_type": "code",
   "execution_count": 9,
   "id": "07480cb3-24b3-4973-a5c8-2bb1dce1e873",
   "metadata": {},
   "outputs": [
    {
     "name": "stdout",
     "output_type": "stream",
     "text": [
      "the prediction for 1500 is [[1098.5895712]]\n"
     ]
    }
   ],
   "source": [
    "weight=np.random.rand()\n",
    "bias=np.random.rand()\n",
    "predi=bias +(weight*X[[0]])\n",
    "print(f'the prediction for 1500 is {predi}')"
   ]
  },
  {
   "cell_type": "code",
   "execution_count": 10,
   "id": "fb9e487b-d42f-4343-b31f-9b6e2877605c",
   "metadata": {},
   "outputs": [
    {
     "name": "stdout",
     "output_type": "stream",
     "text": [
      "the MSE is : 2726423.7392755914\n"
     ]
    }
   ],
   "source": [
    "prediction=bias-weight*X\n",
    "loss=(prediction-y)**2\n",
    "MSE=np.mean(loss)\n",
    "print(f'the MSE is : {MSE}')"
   ]
  },
  {
   "cell_type": "code",
   "execution_count": 11,
   "id": "c85f9002-ee1a-4604-818c-bbc3c9af00cb",
   "metadata": {},
   "outputs": [],
   "source": [
    "#upgrading weigh and bias manually\n",
    "m=1\n",
    "predictions=bias-weight*X[[0]]\n",
    "loss=predictions-y[0]\n",
    "\n",
    "weight_gradient=(2/m)*loss*X[[0]]\n",
    "bias_gradient=(2/m)*loss\n",
    "\n",
    "learning_rate=0.0001\n",
    "\n",
    "\n",
    "weight-=weight_gradient*learning_rate\n",
    "bias=bias_gradient*learning_rate\n",
    "\n"
   ]
  },
  {
   "cell_type": "code",
   "execution_count": 12,
   "id": "3edab828-c48e-420c-9c45-98ee9d23865d",
   "metadata": {},
   "outputs": [
    {
     "name": "stdout",
     "output_type": "stream",
     "text": [
      " the upgraded weight is : 338.94967021168463 \n",
      "\n",
      "\n",
      " the upgraded bias is : [[-0.22547845]]\n"
     ]
    }
   ],
   "source": [
    "print(f' the upgraded weight is : {weight[0,0]} \\n\\n\\n the upgraded bias is : {bias}')"
   ]
  },
  {
   "cell_type": "code",
   "execution_count": 13,
   "id": "fc6c59ac-d2b3-4429-84f1-7f99f7e8dc3c",
   "metadata": {},
   "outputs": [
    {
     "name": "stdout",
     "output_type": "stream",
     "text": [
      "the weight is : [-0.00847025] \n",
      " the bias is : 42.4957507082153 \n"
     ]
    }
   ],
   "source": [
    "###part 2\n",
    "model=LinearRegression()\n",
    "model.fit(X,y)\n",
    "\n",
    "print(f'the weight is : {model.coef_} \\n the bias is : {model.intercept_} ')"
   ]
  },
  {
   "cell_type": "code",
   "execution_count": 14,
   "id": "148654d0-ade1-4fc3-92a6-8b7626198164",
   "metadata": {},
   "outputs": [
    {
     "name": "stdout",
     "output_type": "stream",
     "text": [
      " the npg for 2500 is : [21.32011331]\n"
     ]
    }
   ],
   "source": [
    "mpg=model.predict([[2500]])\n",
    "print(f' the npg for 2500 is : {mpg}')"
   ]
  },
  {
   "cell_type": "code",
   "execution_count": 20,
   "id": "c318be90-c5c4-4807-bcb8-236b9bab454d",
   "metadata": {},
   "outputs": [
    {
     "name": "stdout",
     "output_type": "stream",
     "text": [
      "[0.01649437] 0.8660741194938746\n"
     ]
    }
   ],
   "source": [
    "learning_rate=0.000000001\n",
    "iteration=500\n",
    "loss_history=[]\n",
    "weight=np.random.rand()\n",
    "bias=np.random.rand()\n",
    "\n",
    "\n",
    "for _ in range(iteration):\n",
    "    weight,bias=gradient_decent(weight,bias,X,y,learning_rate)\n",
    "    loss=compute_loss(weight,bias,X,y)\n",
    "    loss_history.append(loss) \n",
    "print(weight[0],bias)"
   ]
  },
  {
   "cell_type": "code",
   "execution_count": 24,
   "id": "34cafa99-e4c3-4dce-ac71-43277f090f0b",
   "metadata": {},
   "outputs": [
    {
     "data": {
      "image/png": "[encoded data removed]",
      "text/plain": [
       "<Figure size 1200x400 with 2 Axes>"
      ]
     },
     "metadata": {},
     "output_type": "display_data"
    }
   ],
   "source": [
    "plt.figure(figsize=(12,4))\n",
    "plt.subplot(1,2,1)\n",
    "plt.plot(range(iteration),loss_history,label='loss curve',color='purple',linestyle='-.')\n",
    "plt.xlabel('..iteration..')\n",
    "plt.ylabel('loss history')\n",
    "plt.title(\"gradient decent loss over time\")\n",
    "plt.grid()\n",
    "plt.legend()\n",
    "\n",
    "weight=np.random.rand()\n",
    "bias=np.random.rand()\n",
    "plt.subplot(1,2,2)\n",
    "plt.scatter(X,y,label='Data',color='black')\n",
    "plt.plot(X,model.predict(X),label='scikit-learn',color='orange')\n",
    "plt.plot(X,weight*X + bias,label='manual GD',color='skyblue')\n",
    "plt.xlabel('<<car weight>>')\n",
    "plt.ylabel('<<MPG>>')\n",
    "plt.legend()\n",
    "plt.title(\"Manual vs sklean regression\")\n",
    "\n",
    "\n",
    "plt.tight_layout()\n",
    "plt.show()\n"
   ]
  },
  {
   "cell_type": "code",
   "execution_count": null,
   "id": "f6b7eaf2-b1d9-445d-8416-0569e9f0eb21",
   "metadata": {},
   "outputs": [],
   "source": []
  },
  {
   "cell_type": "code",
   "execution_count": null,
   "id": "23a06301-cf62-4cfa-a06c-35b5c7c7d615",
   "metadata": {},
   "outputs": [],
   "source": []
  },
  {
   "cell_type": "code",
   "execution_count": null,
   "id": "4ed687ec-a7a1-432e-8f3b-d2ebe0ba8921",
   "metadata": {},
   "outputs": [],
   "source": []
  },
  {
   "cell_type": "code",
   "execution_count": null,
   "id": "13287b5c-994c-44d1-a600-0ebf6ed8dc79",
   "metadata": {},
   "outputs": [],
   "source": []
  }
 ],
 "metadata": {
  "kernelspec": {
   "display_name": "Python 3 (ipykernel)",
   "language": "python",
   "name": "python3"
  },
  "language_info": {
   "codemirror_mode": {
    "name": "ipython",
    "version": 3
   },
   "file_extension": ".py",
   "mimetype": "text/x-python",
   "name": "python",
   "nbconvert_exporter": "python",
   "pygments_lexer": "ipython3",
   "version": "3.13.2"
  }
 },
 "nbformat": 4,
 "nbformat_minor": 5
}
